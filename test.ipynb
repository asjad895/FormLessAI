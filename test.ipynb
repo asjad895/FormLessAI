{
 "cells": [
  {
   "cell_type": "code",
   "execution_count": 2,
   "metadata": {},
   "outputs": [
    {
     "data": {
      "text/html": [
       "<div>\n",
       "<style scoped>\n",
       "    .dataframe tbody tr th:only-of-type {\n",
       "        vertical-align: middle;\n",
       "    }\n",
       "\n",
       "    .dataframe tbody tr th {\n",
       "        vertical-align: top;\n",
       "    }\n",
       "\n",
       "    .dataframe thead th {\n",
       "        text-align: right;\n",
       "    }\n",
       "</style>\n",
       "<table border=\"1\" class=\"dataframe\">\n",
       "  <thead>\n",
       "    <tr style=\"text-align: right;\">\n",
       "      <th></th>\n",
       "      <th>Column1</th>\n",
       "      <th>Column2</th>\n",
       "      <th>Column3</th>\n",
       "      <th>Column4</th>\n",
       "      <th>Column5</th>\n",
       "      <th>Column6</th>\n",
       "    </tr>\n",
       "  </thead>\n",
       "  <tbody>\n",
       "    <tr>\n",
       "      <th>0</th>\n",
       "      <td>Value1</td>\n",
       "      <td>NaN</td>\n",
       "      <td>Value3</td>\n",
       "      <td>NaN</td>\n",
       "      <td>NaN</td>\n",
       "      <td>NaN</td>\n",
       "    </tr>\n",
       "  </tbody>\n",
       "</table>\n",
       "</div>"
      ],
      "text/plain": [
       "  Column1 Column2 Column3 Column4 Column5 Column6\n",
       "0  Value1     NaN  Value3     NaN     NaN     NaN"
      ]
     },
     "execution_count": 2,
     "metadata": {},
     "output_type": "execute_result"
    }
   ],
   "source": [
    "import pandas as pd\n",
    "columns = ['Column1', 'Column2', 'Column3', 'Column4', 'Column5', 'Column6']\n",
    "df = pd.DataFrame(columns=columns)\n",
    "df['Column1'] = ['Value1']\n",
    "df['Column3'] = ['Value3']\n",
    "csv_file_path = './extracted_data/file_path.csv'\n",
    "\n",
    "df.to_csv(csv_file_path, index=False)\n",
    "df.head()\n"
   ]
  },
  {
   "cell_type": "code",
   "execution_count": 9,
   "metadata": {},
   "outputs": [
    {
     "name": "stdout",
     "output_type": "stream",
     "text": [
      "no\n",
      "Iteration 1: False\n",
      "no\n",
      "Iteration 2: False\n",
      "no\n",
      "Iteration 3: False\n"
     ]
    }
   ],
   "source": [
    "\n",
    "global_flag = True\n",
    "def your_function():\n",
    "    global global_flag\n",
    "    a=2\n",
    "    if a==2:\n",
    "        global_flag = False\n",
    "        b=6\n",
    "        if b==4:\n",
    "            global_flag=True\n",
    "    if global_flag==True:\n",
    "        print(\"yes\")\n",
    "    else:\n",
    "        print(\"no\")\n",
    "        \n",
    "\n",
    "for i in range(3):\n",
    "    your_function()\n",
    "    print(f'Iteration {i + 1}: {global_flag}')\n"
   ]
  },
  {
   "cell_type": "code",
   "execution_count": 12,
   "metadata": {},
   "outputs": [
    {
     "name": "stdout",
     "output_type": "stream",
     "text": [
      "yes\n"
     ]
    }
   ],
   "source": [
    "s=\"Sorry a\"\n",
    "if 'orry' in s:\n",
    "    print(\"yes\")"
   ]
  },
  {
   "cell_type": "code",
   "execution_count": 10,
   "metadata": {},
   "outputs": [
    {
     "name": "stdout",
     "output_type": "stream",
     "text": [
      "yes\n"
     ]
    },
    {
     "data": {
      "text/plain": [
       "['i', 'am', 'an', 'ai', 'engineer', ',why', 'not', 'u?']"
      ]
     },
     "execution_count": 10,
     "metadata": {},
     "output_type": "execute_result"
    }
   ],
   "source": [
    "sent=\"i am an ai engineer ,why not u?\"\n",
    "if 'engineer' in sent.lower().split():\n",
    "    print(\"yes\")\n",
    "sent.lower().split()"
   ]
  },
  {
   "cell_type": "code",
   "execution_count": null,
   "metadata": {},
   "outputs": [],
   "source": [
    " # Example Interactions:\n",
    "            # 1. User: Extract \"name\" from \"Asjad\"\n",
    "            # Agent: Extract and present the relevant information in JSON format.\n",
    "            # JSON Format Example: {\"name\": \"Asjad\"}  (you have to reurn this.)\n",
    "            # 2. User:extract \"dob\" from \"20/11/2002\" or \"20 jan 2002\" or \"2002 20 jan\" or \"11/20/2002\" or \"2002/11/20\"\n",
    "            # Agent: Extract and present the relevant information in JSON format. JSON Format Example: {\"dob\": \"20/11/2002\"}\n",
    "            # 3. User: extract \"email\"from \"mdasjad895@gmail.com\" or \"abc@.in\" or \"abc@.org\"\n",
    "            # Agent: Extract and present the relevant information in JSON format.JSON Format Example: {\"email\": \"mdasjad895@gmail.com\"}\n",
    "            # 4. User: Extract \"address\" from \"123 Main Street, Cityville\"\n",
    "            # Agent: Extract and present the relevant information in JSON format.JSON Format Example: {\"address\": \"123 Main Street, Cityville\"}\n",
    "            # 5. User: \"degree\"\n",
    "            # Agent: Extract and present the relevant information in JSON format.\n",
    "            # JSON Format Example: {\"degree\": \"Computer Science\"}\n",
    "            # 6. User: Extract \"skills\" from \"Programming,Data Analysis\"\n",
    "            # A"
   ]
  }
 ],
 "metadata": {
  "kernelspec": {
   "display_name": "Python 3",
   "language": "python",
   "name": "python3"
  },
  "language_info": {
   "codemirror_mode": {
    "name": "ipython",
    "version": 3
   },
   "file_extension": ".py",
   "mimetype": "text/x-python",
   "name": "python",
   "nbconvert_exporter": "python",
   "pygments_lexer": "ipython3",
   "version": "3.10.0"
  }
 },
 "nbformat": 4,
 "nbformat_minor": 2
}
