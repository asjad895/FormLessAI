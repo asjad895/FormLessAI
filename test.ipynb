{
 "cells": [
  {
   "cell_type": "code",
   "execution_count": 2,
   "metadata": {},
   "outputs": [
    {
     "data": {
      "text/html": [
       "<div>\n",
       "<style scoped>\n",
       "    .dataframe tbody tr th:only-of-type {\n",
       "        vertical-align: middle;\n",
       "    }\n",
       "\n",
       "    .dataframe tbody tr th {\n",
       "        vertical-align: top;\n",
       "    }\n",
       "\n",
       "    .dataframe thead th {\n",
       "        text-align: right;\n",
       "    }\n",
       "</style>\n",
       "<table border=\"1\" class=\"dataframe\">\n",
       "  <thead>\n",
       "    <tr style=\"text-align: right;\">\n",
       "      <th></th>\n",
       "      <th>Column1</th>\n",
       "      <th>Column2</th>\n",
       "      <th>Column3</th>\n",
       "      <th>Column4</th>\n",
       "      <th>Column5</th>\n",
       "      <th>Column6</th>\n",
       "    </tr>\n",
       "  </thead>\n",
       "  <tbody>\n",
       "    <tr>\n",
       "      <th>0</th>\n",
       "      <td>Value1</td>\n",
       "      <td>NaN</td>\n",
       "      <td>Value3</td>\n",
       "      <td>NaN</td>\n",
       "      <td>NaN</td>\n",
       "      <td>NaN</td>\n",
       "    </tr>\n",
       "  </tbody>\n",
       "</table>\n",
       "</div>"
      ],
      "text/plain": [
       "  Column1 Column2 Column3 Column4 Column5 Column6\n",
       "0  Value1     NaN  Value3     NaN     NaN     NaN"
      ]
     },
     "execution_count": 2,
     "metadata": {},
     "output_type": "execute_result"
    }
   ],
   "source": [
    "import pandas as pd\n",
    "columns = ['Column1', 'Column2', 'Column3', 'Column4', 'Column5', 'Column6']\n",
    "df = pd.DataFrame(columns=columns)\n",
    "df['Column1'] = ['Value1']\n",
    "df['Column3'] = ['Value3']\n",
    "csv_file_path = './extracted_data/file_path.csv'\n",
    "\n",
    "df.to_csv(csv_file_path, index=False)\n",
    "df.head()\n"
   ]
  },
  {
   "cell_type": "code",
   "execution_count": 9,
   "metadata": {},
   "outputs": [
    {
     "name": "stdout",
     "output_type": "stream",
     "text": [
      "no\n",
      "Iteration 1: False\n",
      "no\n",
      "Iteration 2: False\n",
      "no\n",
      "Iteration 3: False\n"
     ]
    }
   ],
   "source": [
    "\n",
    "global_flag = True\n",
    "def your_function():\n",
    "    global global_flag\n",
    "    a=2\n",
    "    if a==2:\n",
    "        global_flag = False\n",
    "        b=6\n",
    "        if b==4:\n",
    "            global_flag=True\n",
    "    if global_flag==True:\n",
    "        print(\"yes\")\n",
    "    else:\n",
    "        print(\"no\")\n",
    "        \n",
    "\n",
    "for i in range(3):\n",
    "    your_function()\n",
    "    print(f'Iteration {i + 1}: {global_flag}')\n"
   ]
  },
  {
   "cell_type": "code",
   "execution_count": 12,
   "metadata": {},
   "outputs": [
    {
     "name": "stdout",
     "output_type": "stream",
     "text": [
      "yes\n"
     ]
    }
   ],
   "source": [
    "s=\"Sorry a\"\n",
    "if 'orry' in s:\n",
    "    print(\"yes\")"
   ]
  },
  {
   "cell_type": "code",
   "execution_count": 10,
   "metadata": {},
   "outputs": [
    {
     "name": "stdout",
     "output_type": "stream",
     "text": [
      "yes\n"
     ]
    },
    {
     "data": {
      "text/plain": [
       "['i', 'am', 'an', 'ai', 'engineer', ',why', 'not', 'u?']"
      ]
     },
     "execution_count": 10,
     "metadata": {},
     "output_type": "execute_result"
    }
   ],
   "source": [
    "sent=\"i am an ai engineer ,why not u?\"\n",
    "if 'engineer' in sent.lower().split():\n",
    "    print(\"yes\")\n",
    "sent.lower().split()"
   ]
  }
 ],
 "metadata": {
  "kernelspec": {
   "display_name": "Python 3",
   "language": "python",
   "name": "python3"
  },
  "language_info": {
   "codemirror_mode": {
    "name": "ipython",
    "version": 3
   },
   "file_extension": ".py",
   "mimetype": "text/x-python",
   "name": "python",
   "nbconvert_exporter": "python",
   "pygments_lexer": "ipython3",
   "version": "3.10.0"
  }
 },
 "nbformat": 4,
 "nbformat_minor": 2
}
