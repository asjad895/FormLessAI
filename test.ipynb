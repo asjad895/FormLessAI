{
 "cells": [
  {
   "cell_type": "code",
   "execution_count": 2,
   "metadata": {},
   "outputs": [],
   "source": [
    "import pandas as pd\n",
    "columns = ['Column1', 'Column2', 'Column3', 'Column4', 'Column5', 'Column6']\n",
    "df = pd.DataFrame(columns=columns)\n",
    "df['Column1'] = ['Value1']\n",
    "df['Column3'] = ['Value3']\n",
    "csv_file_path = './extracted_data/file_path.csv'\n",
    "\n",
    "df.to_csv(csv_file_path, index=False)\n"
   ]
  }
 ],
 "metadata": {
  "kernelspec": {
   "display_name": "Python 3",
   "language": "python",
   "name": "python3"
  },
  "language_info": {
   "codemirror_mode": {
    "name": "ipython",
    "version": 3
   },
   "file_extension": ".py",
   "mimetype": "text/x-python",
   "name": "python",
   "nbconvert_exporter": "python",
   "pygments_lexer": "ipython3",
   "version": "3.10.0"
  }
 },
 "nbformat": 4,
 "nbformat_minor": 2
}
